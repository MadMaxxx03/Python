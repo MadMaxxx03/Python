{
 "cells": [
  {
   "cell_type": "markdown",
   "id": "3b7cc73c",
   "metadata": {},
   "source": [
    "# 1.5"
   ]
  },
  {
   "cell_type": "code",
   "execution_count": 21,
   "id": "ca7e62df",
   "metadata": {},
   "outputs": [
    {
     "name": "stdout",
     "output_type": "stream",
     "text": [
      "1 5 2 7 1 9 3 8 5 9\n"
     ]
    }
   ],
   "source": [
    "arr = list(input().split())"
   ]
  },
  {
   "cell_type": "code",
   "execution_count": 37,
   "id": "3629d20c",
   "metadata": {},
   "outputs": [],
   "source": [
    "def ad(arr):\n",
    "    s = 0\n",
    "    for elem in arr:\n",
    "        s += float(elem)\n",
    "    av = s / len(arr)\n",
    "    d = 0\n",
    "    for elem in arr:\n",
    "        d += (int(elem) - av) ** 2\n",
    "    d /= (len(arr) - 1)\n",
    "    ad = d ** 0.5\n",
    "    return ad"
   ]
  },
  {
   "cell_type": "code",
   "execution_count": 38,
   "id": "c861322b",
   "metadata": {},
   "outputs": [
    {
     "data": {
      "text/plain": [
       "3.1622776601683795"
      ]
     },
     "execution_count": 38,
     "metadata": {},
     "output_type": "execute_result"
    }
   ],
   "source": [
    "ad(arr)"
   ]
  },
  {
   "cell_type": "code",
   "execution_count": null,
   "id": "2d3063c5",
   "metadata": {},
   "outputs": [],
   "source": []
  }
 ],
 "metadata": {
  "kernelspec": {
   "display_name": "Python 3 (ipykernel)",
   "language": "python",
   "name": "python3"
  },
  "language_info": {
   "codemirror_mode": {
    "name": "ipython",
    "version": 3
   },
   "file_extension": ".py",
   "mimetype": "text/x-python",
   "name": "python",
   "nbconvert_exporter": "python",
   "pygments_lexer": "ipython3",
   "version": "3.9.13"
  }
 },
 "nbformat": 4,
 "nbformat_minor": 5
}
