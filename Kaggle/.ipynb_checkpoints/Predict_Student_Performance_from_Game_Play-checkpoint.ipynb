{
 "cells": [
  {
   "cell_type": "markdown",
   "id": "f3b8160c",
   "metadata": {},
   "source": [
    "<br>\n",
    "\n",
    "<h3 style=\"font-family: Verdana; font-size: 20px; font-style: normal; font-weight: normal; text-decoration: none; text-transform: none; letter-spacing: 2px; color: #FF8C00; background-color: #ffffff;\"> <b>DATASET</b> DESCRIPTION</h3>\n",
    "\n",
    "---\n",
    "\n",
    "The data include:\n",
    "\n",
    "* train dataset with game sessions data: `train.csv`\n",
    "* correct answers for all questions for each session: `train_labels.csv`\n",
    "* test dataset with game sessions data: `test.csv`\n",
    "* sample submission file: `sample_submission.csv`\n"
   ]
  },
  {
   "cell_type": "markdown",
   "id": "52936f6c",
   "metadata": {},
   "source": [
    "<br>\n",
    "\n",
    "<h3 style=\"font-family: Verdana; font-size: 20px; font-style: normal; font-weight: normal; text-decoration: none; text-transform: none; letter-spacing: 2px; color: #FF8C00; background-color: #ffffff;\"> <b>EVALUATION</b></h3>\n",
    "\n",
    "---\n",
    "\n",
    "This competition has two tracks: the first one focus on the <b>accuracy</b> of the model, and the second one focus on the <b>efficiency</b> of the model\n",
    "* <b>First track: Accuracy</b>\n",
    "    * The submissions will be evaluated based on the <a>F1 socre</a>: $2 \\frac{precision*recall}{precision+recall}$\n",
    "* <b>Second track: Efficiency</b>\n",
    "    * Must be among the submissions selected by a team for the Leaderboard Prize, or else among those submissions automatically selected under the conditions described in the My Submissions tab.\n",
    "    * Must be ranked on the Private Leaderboard higher than the sample_submission.csv benchmark.\n",
    "    * Must not have a GPU enabled. <b>The Efficiency Prize is CPU Only</b>.\n",
    "    * The submissions will be evaluated based on the <a>Efficiency</a>: $\\frac{1}{Benchmark-maxF1} + \\frac{1}{32400}RuntimeSeconds $"
   ]
  },
  {
   "cell_type": "markdown",
   "id": "7700d013",
   "metadata": {},
   "source": [
    "<br>\n",
    "\n",
    "<a id=\"imports\"></a>\n",
    "\n",
    "<h1 style=\"font-family: Verdana; font-size: 24px; font-style: normal; font-weight: bold; text-decoration: none; text-transform: none; letter-spacing: 3px; background-color: #ffffff; color: #FF8C00;\">&nbsp;&nbsp;IMPORTS&nbsp;&nbsp;&nbsp;&nbsp;</h1>"
   ]
  },
  {
   "cell_type": "code",
   "execution_count": 4,
   "id": "969c7885",
   "metadata": {},
   "outputs": [],
   "source": [
    "# Machine Learning and Data Science Imports\n",
    "import pandas as pd\n",
    "import numpy as np\n",
    "\n",
    "# Built-In Imports\n",
    "import os\n",
    "import time\n",
    "import gc\n",
    "\n",
    "# Visualization Imports\n",
    "import matplotlib\n",
    "import matplotlib.pyplot as plt\n",
    "import seaborn as sns\n",
    "from skimage import io \n",
    "try: \n",
    "    import mpl_scatter_density # for density scatter graph \n",
    "except:\n",
    "    print(\"\\tPlease install mpl_scatter_density!\")\n",
    "    \n",
    "# Other Imports\n",
    "from tqdm.notebook import tqdm # for progress bar\n",
    "#import jo_wilder # the API of this competition\n"
   ]
  },
  {
   "cell_type": "markdown",
   "id": "178c4fce",
   "metadata": {},
   "source": [
    "<br>\n",
    "\n",
    "<h3 style=\"font-family: Verdana; font-size: 20px; font-style: normal; font-weight: normal; text-decoration: none; text-transform: none; letter-spacing: 2px; color: #FF8C00; background-color: #ffffff;\">HELPER FUNCTIONS</h3>\n",
    "<br>\n"
   ]
  },
  {
   "cell_type": "code",
   "execution_count": 5,
   "id": "ca7e993e",
   "metadata": {},
   "outputs": [],
   "source": [
    "# for checking features properties during feature engineering\n",
    "def check_features(features_df):\n",
    "    fig, ax = plt.subplots(1, 2, figsize=(18,9))\n",
    "    fig.tight_layout(pad=10.0)\n",
    "    sns.boxplot(ax=ax[0], data=features_df, orient=\"h\")\n",
    "    sns.violinplot(ax=ax[1], data=features_df, orient=\"h\")\n",
    "    plt.show()"
   ]
  },
  {
   "cell_type": "code",
   "execution_count": 6,
   "id": "fc176b8a",
   "metadata": {},
   "outputs": [],
   "source": [
    "# convert features series into features datafame\n",
    "def to_df(features_series): \n",
    "    features_df = pd.concat(features_series,axis=1)\n",
    "    features_df = features_df.reset_index()\n",
    "    features_df = features_df.set_index('session_id')\n",
    "    return features_df"
   ]
  },
  {
   "cell_type": "markdown",
   "id": "ec0252f1",
   "metadata": {},
   "source": [
    "<br>\n",
    "\n",
    "<h3 style=\"font-family: Verdana; font-size: 20px; font-style: normal; font-weight: normal; text-decoration: none; text-transform: none; letter-spacing: 2px; color: #FF8C00; background-color: #ffffff;\">LOAD DATA</h3>\n",
    "<br>\n"
   ]
  },
  {
   "cell_type": "code",
   "execution_count": null,
   "id": "a5049330",
   "metadata": {},
   "outputs": [],
   "source": [
    "dtypes = {'session_id': 'category',\n",
    "          'elapsed_time': np.int32,\n",
    "          'event_name': 'category',\n",
    "          'name': 'category',\n",
    "          'level': np.uint8,\n",
    "          'page': 'category',\n",
    "          'room_coor_x': np.float32,\n",
    "          'room_coor_y': np.float32,\n",
    "          'screen_coor_x': np.float32,\n",
    "          'screen_coor_y': np.float32,\n",
    "          'hover_duration': np.float32,\n",
    "          'text': 'category',\n",
    "          'fqid': 'category',\n",
    "          'room_fqid': 'category',\n",
    "          'text_fqid': 'category',\n",
    "          'fullscreen': np.int8,\n",
    "          'hq': np.int8,\n",
    "          'music': np.int8,\n",
    "          'level_group': 'category'}\n",
    "print(\"\\n\\n... LOAD DATA FROM CSV FILE ...\")\n",
    "train = pd.read_csv(os.path.join(DATA_DIR, \"train.csv\"), dtype=dtypes)\n",
    "test = pd.read_csv(os.path.join(DATA_DIR, \"test.csv\"), dtype=dtypes)\n",
    "train_labels = pd.read_csv(os.path.join(DATA_DIR, \"train_labels.csv\"))\n",
    "print(f\"\\n\\n... LOAD DATA COMPLETE ...\\n\")"
   ]
  }
 ],
 "metadata": {
  "kernelspec": {
   "display_name": "Python 3 (ipykernel)",
   "language": "python",
   "name": "python3"
  },
  "language_info": {
   "codemirror_mode": {
    "name": "ipython",
    "version": 3
   },
   "file_extension": ".py",
   "mimetype": "text/x-python",
   "name": "python",
   "nbconvert_exporter": "python",
   "pygments_lexer": "ipython3",
   "version": "3.9.13"
  }
 },
 "nbformat": 4,
 "nbformat_minor": 5
}
